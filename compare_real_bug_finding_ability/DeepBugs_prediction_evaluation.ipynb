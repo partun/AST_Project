{
 "cells": [
  {
   "cell_type": "markdown",
   "metadata": {
    "pycharm": {
     "name": "#%% md\n"
    }
   },
   "source": [
    "Prediction Evaluation"
   ]
  },
  {
   "cell_type": "code",
   "execution_count": 17,
   "metadata": {
    "jupyter": {
     "outputs_hidden": false
    },
    "pycharm": {
     "name": "#%%\n"
    }
   },
   "outputs": [],
   "source": [
    "import os\n",
    "from pathlib import Path\n",
    "import codecs\n",
    "import json\n",
    "from typing import List, Dict, Any\n",
    "import pandas as pd\n",
    "from multiprocessing import Pool, cpu_count\n",
    "from tqdm.notebook import trange, tqdm\n",
    "\n",
    "benchmarks_dir = '../benchmarks'\n",
    "import pymongo\n",
    "import seaborn as sns\n",
    "import matplotlib.pyplot as plt\n",
    "import numpy as np\n",
    "\n",
    "from pymongo import MongoClient\n",
    "\n",
    "font_name = \"Source Sans Pro\"\n",
    "plt.rcParams['font.size'] = 15\n",
    "plt.rcParams['font.sans-serif'] = [font_name, 'Fira Sans']\n",
    "plt.rcParams['font.weight'] = 'regular'\n",
    "\n",
    "# Wrong binary operand\n",
    "artificial_deepbugs_predictions_fp = os.path.join(benchmarks_dir,\n",
    "                                                  'evaluated_real_bugs_artificial_wrong_IncorrectBinaryOperand.json')\n",
    "semseed_deepbugs_predictions_fp = os.path.join(benchmarks_dir,\n",
    "                                               'evaluated_real_bugs_semseed_wrong_IncorrectBinaryOperand.json')\n",
    "\n",
    "# Wrong assignments\n",
    "semseed_deepbugs_predictions_fp_wrong_assignments = os.path.join(benchmarks_dir,\n",
    "                                                                 'evaluated_real_bugs_semseed_wrong_IncorrectAssignment.json')\n",
    "artificial_predictions_fp_wrong_assignments = os.path.join(benchmarks_dir,\n",
    "                                                           'evaluated_real_bugs_artificial_wrong_IncorrectAssignment.json')"
   ]
  },
  {
   "cell_type": "code",
   "execution_count": 2,
   "metadata": {
    "jupyter": {
     "outputs_hidden": false
    },
    "pycharm": {
     "name": "#%%\n"
    }
   },
   "outputs": [],
   "source": [
    "colors = [\"#fb1700\", \"#34626c\", \"#F77F00\", \"#FCBF49\", \"#EAE2B7\"]\n",
    "sns.set_palette(sns.set_palette(sns.color_palette(colors)))"
   ]
  },
  {
   "cell_type": "code",
   "execution_count": 3,
   "metadata": {
    "jupyter": {
     "outputs_hidden": false
    },
    "pycharm": {
     "name": "#%%\n"
    }
   },
   "outputs": [],
   "source": [
    "def plot_precision_recall(precision_and_recalls, bug_type, precision_or_recall, annotation_idx):\n",
    "    font_name = \"Source Sans Pro\"\n",
    "\n",
    "    plt.rcParams['font.size'] = 20\n",
    "    plt.rcParams['font.sans-serif'] = [font_name, 'sans-serif']\n",
    "    plt.rcParams['font.weight'] = 'medium'\n",
    "\n",
    "    fig, ax = plt.subplots(1, 1, figsize=(5, 5))\n",
    "\n",
    "    types_of_thresholds = []\n",
    "    num_bug_seeding = len(precision_and_recalls['Bug-Seeding Approach'].unique())\n",
    "    for i in range(num_bug_seeding):\n",
    "        ar = np.arange(0, 1.1, 0.1)\n",
    "        types_of_thresholds.append(ar)\n",
    "    x = np.concatenate(types_of_thresholds)\n",
    "    #sns.set_palette(\"dark\")\n",
    "\n",
    "    semseed_results = precision_and_recalls.groupby(['Bug-Seeding Approach']).agg(list)[precision_or_recall]['SemSeed']\n",
    "    ax = sns.lineplot(x=np.arange(0, 1.1, 0.1), y=semseed_results)\n",
    "\n",
    "    # [precision_wrong_binopnd, recall_wrong_binopnd, precison_wrong_assingment, recall_wrong_assignment]\n",
    "    x_y_semseed = [(0.65, 0.51), (.52, .51), (.72, .56), (.72, .51)][annotation_idx]\n",
    "    x_y_artificial = [(0.75, 0.71), (.19, .4), (.77, .2), (.34, .51)][annotation_idx]\n",
    "\n",
    "    ax.annotate('SemSeed',\n",
    "                xy=x_y_semseed, color=colors[0], xycoords='data')\n",
    "    ax.set_ylim(0, 1.0)\n",
    "\n",
    "    artificial_results = precision_and_recalls.groupby(['Bug-Seeding Approach']).agg(list)[precision_or_recall][\n",
    "        'Artificial']\n",
    "    ax = sns.lineplot(x=np.arange(0, 1.1, 0.1), y=artificial_results)\n",
    "    ax.annotate('Artificial',\n",
    "                xy=x_y_artificial, color=colors[1], xycoords='data')\n",
    "    ax.set_ylim(0, 1.0)\n",
    "    # ax.annotate('Aritificial',\n",
    "    #                 xy=(0.9, 0.5), xycoords='Aritificial')\n",
    "    #ax = plt.stackplot(x=precision_and_recalls['x'], y='Recall', x=x, style='Bug-Seeding Approach')\n",
    "    # legend = ax.legend()\n",
    "    #\n",
    "    # legend.texts[0].set_text(\"Semseed\")\n",
    "    # legend.texts[1].set_text(\"Artificial\")\n",
    "    # ax.text(0.35, 0.95, text, fontsize=15, fontweight='bold')\n",
    "    ax.set(xlabel=\"Threshold for classifying a bug\", ylabel=precision_or_recall)\n",
    "\n",
    "    ax.xaxis.label.set_size(22)\n",
    "    ax.yaxis.label.set_size(22)\n",
    "    # ax.annotate('Random', xy=(0.01, 0.01), xytext=(0.15, 0.15), textcoords='axes fraction',\n",
    "    #             arrowprops=dict(facecolor=sns.color_palette('dark')[6], shrink=0.05, width=3.5, headwidth=9),\n",
    "    #             fontsize=14,\n",
    "    #             fontweight='normal')\n",
    "    plt.savefig(os.path.join(benchmarks_dir, f'precision_recall_{bug_type}_{precision_or_recall}.pdf'),\n",
    "                transparent=True,\n",
    "                bbox_inches='tight')\n",
    "    plt.show()\n",
    "    # plt.savefig(os.path.join(benchmarks_dir, 'precision_vs_recall.pdf'), transparent=True,\n",
    "    #             bbox_inches='tight')\n",
    "\n",
    "\n",
    "def get_precision_recall_different_threshold(bug_reports):\n",
    "    p, r = [], []\n",
    "    thresholds = np.arange(0, 1.1, 0.1)\n",
    "    for t in thresholds:\n",
    "        pr, rc, fs = get_precision_recall(bug_reports, t)\n",
    "        p.append(pr)\n",
    "        r.append(rc)\n",
    "    return p, r"
   ]
  },
  {
   "cell_type": "code",
   "execution_count": 4,
   "metadata": {
    "jupyter": {
     "outputs_hidden": false
    },
    "pycharm": {
     "name": "#%%\n"
    }
   },
   "outputs": [],
   "source": [
    "def plot_recall_at_different_threshold(prec_recalls, bug_type):\n",
    "    num_bug_seeding = len(prec_recalls['Bug-Seeding Approach'].unique())\n",
    "    types_of_thresholds = []\n",
    "    for i in range(num_bug_seeding):\n",
    "        ar = np.arange(0, 1.1, 0.1)\n",
    "        types_of_thresholds.append(ar)\n",
    "    x = np.concatenate(types_of_thresholds)\n",
    "    sns.lineplot(x, y='Recall', hue='Bug-Seeding Approach', data=prec_recalls)\n",
    "    plt.savefig(os.path.join(benchmarks_dir, f'recall_{bug_type}.pdf'), transparent=True,\n",
    "                bbox_inches='tight')\n",
    "    plt.show()\n",
    "\n",
    "\n",
    "def plot_precision_at_different_threshold(prec_recalls, bug_type):\n",
    "    num_bug_seeding = len(prec_recalls['Bug-Seeding Approach'].unique())\n",
    "    types_of_thresholds = []\n",
    "    for i in range(num_bug_seeding):\n",
    "        ar = np.arange(0, 1.1, 0.1)\n",
    "        types_of_thresholds.append(ar)\n",
    "    x = np.concatenate(types_of_thresholds)\n",
    "    sns.lineplot(x, y='Precision', hue='Bug-Seeding Approach', data=prec_recalls)\n",
    "    plt.savefig(os.path.join(benchmarks_dir, f'precision_{bug_type}.pdf'), transparent=True,\n",
    "                bbox_inches='tight')\n",
    "    plt.show()"
   ]
  },
  {
   "cell_type": "code",
   "execution_count": 5,
   "metadata": {
    "jupyter": {
     "outputs_hidden": false
    },
    "pycharm": {
     "name": "#%%\n"
    }
   },
   "outputs": [],
   "source": [
    "def read_json(file_path):\n",
    "    with open(file_path, 'r') as f:\n",
    "        c = json.load(f)\n",
    "    return c\n",
    "\n",
    "\n",
    "def get_precision_recall(predictions: pd.DataFrame, t):\n",
    "    true_values = []\n",
    "    pred_values = []\n",
    "    precision, recall, fscore = 0, 0, 0\n",
    "    for _, row in predictions.iterrows():\n",
    "        true_values.append(row['buggy'])\n",
    "        if row['p_buggy'] > t:\n",
    "            pred_values.append(1)\n",
    "        else:\n",
    "            pred_values.append(0)\n",
    "    tp, fp, tn, fn = 0, 0, 0, 0\n",
    "    for tv, pv in zip(true_values, pred_values):\n",
    "        if tv == 1 == pv:\n",
    "            tp += 1\n",
    "        if tv == 0 and pv == 1:\n",
    "            fp += 1\n",
    "        if tv == 0 and pv == 0:\n",
    "            tn += 1\n",
    "        if tv == 1 and pv == 0:\n",
    "            fn += 1\n",
    "    if (tp + fp):\n",
    "        precision = tp / (tp + fp)\n",
    "    if (tp + fn):\n",
    "        recall = tp / (tp + fn)\n",
    "    if precision + recall:\n",
    "        fscore = (2 * precision * recall) / (precision + recall)\n",
    "    return precision, recall, fscore"
   ]
  },
  {
   "cell_type": "markdown",
   "metadata": {
    "pycharm": {
     "name": "#%% md\n"
    }
   },
   "source": [
    "## Wrong Binary Operand"
   ]
  },
  {
   "cell_type": "markdown",
   "metadata": {
    "pycharm": {
     "name": "#%% md\n"
    }
   },
   "source": [
    "#### SemSeed"
   ]
  },
  {
   "cell_type": "code",
   "execution_count": 6,
   "metadata": {
    "jupyter": {
     "outputs_hidden": false
    },
    "pycharm": {
     "name": "#%%\n"
    },
    "tags": []
   },
   "outputs": [],
   "source": [
    "def get_data_for_semseed_wrong_operand():\n",
    "    semseed_bugs = read_json(semseed_deepbugs_predictions_fp)\n",
    "    print(f'Found  {len(semseed_bugs)} semseed bugs')\n",
    "    semseed_bugs = pd.DataFrame(semseed_bugs)\n",
    "    p, r = get_precision_recall_different_threshold(semseed_bugs)\n",
    "    semseed_wrong_binary_operand_p_r = {\n",
    "        'Precision': p,\n",
    "        'Recall': r,\n",
    "        'Bug-Seeding Approach': ['SemSeed'] * len(p)\n",
    "    }\n",
    "    return semseed_wrong_binary_operand_p_r, semseed_bugs"
   ]
  },
  {
   "cell_type": "markdown",
   "metadata": {
    "pycharm": {
     "name": "#%% md\n"
    }
   },
   "source": [
    "#### Artificial"
   ]
  },
  {
   "cell_type": "code",
   "execution_count": 7,
   "metadata": {
    "jupyter": {
     "outputs_hidden": false
    },
    "pycharm": {
     "name": "#%%\n"
    }
   },
   "outputs": [],
   "source": [
    "def get_data_for_aritficial_wrong_operand():\n",
    "    artificial_bugs = read_json(artificial_deepbugs_predictions_fp)\n",
    "    print(f'Found  {len(artificial_bugs)} artificial bugs')\n",
    "    artificial_bugs = pd.DataFrame(artificial_bugs)\n",
    "    p, r = get_precision_recall_different_threshold(artificial_bugs)\n",
    "    artificial_wrong_binary_operand_p_r = {\n",
    "        'Precision': p,\n",
    "        'Recall': r,\n",
    "        'Bug-Seeding Approach': ['Artificial'] * len(p)\n",
    "    }\n",
    "    return artificial_wrong_binary_operand_p_r, artificial_bugs"
   ]
  },
  {
   "cell_type": "code",
   "execution_count": 8,
   "metadata": {
    "jupyter": {
     "outputs_hidden": false
    },
    "pycharm": {
     "name": "#%%\n"
    }
   },
   "outputs": [
    {
     "name": "stdout",
     "output_type": "stream",
     "text": [
      "Found  754 artificial bugs\n",
      "Found  754 semseed bugs\n"
     ]
    },
    {
     "data": {
      "text/html": [
       "<div>\n",
       "<style scoped>\n",
       "    .dataframe tbody tr th:only-of-type {\n",
       "        vertical-align: middle;\n",
       "    }\n",
       "\n",
       "    .dataframe tbody tr th {\n",
       "        vertical-align: top;\n",
       "    }\n",
       "\n",
       "    .dataframe thead th {\n",
       "        text-align: right;\n",
       "    }\n",
       "</style>\n",
       "<table border=\"1\" class=\"dataframe\">\n",
       "  <thead>\n",
       "    <tr style=\"text-align: right;\">\n",
       "      <th></th>\n",
       "      <th>Precision</th>\n",
       "      <th>Recall</th>\n",
       "      <th>Bug-Seeding Approach</th>\n",
       "    </tr>\n",
       "  </thead>\n",
       "  <tbody>\n",
       "    <tr>\n",
       "      <th>0</th>\n",
       "      <td>0.500000</td>\n",
       "      <td>1.000000</td>\n",
       "      <td>Artificial</td>\n",
       "    </tr>\n",
       "    <tr>\n",
       "      <th>1</th>\n",
       "      <td>0.501171</td>\n",
       "      <td>0.567639</td>\n",
       "      <td>Artificial</td>\n",
       "    </tr>\n",
       "    <tr>\n",
       "      <th>2</th>\n",
       "      <td>0.478261</td>\n",
       "      <td>0.320955</td>\n",
       "      <td>Artificial</td>\n",
       "    </tr>\n",
       "    <tr>\n",
       "      <th>3</th>\n",
       "      <td>0.459259</td>\n",
       "      <td>0.164456</td>\n",
       "      <td>Artificial</td>\n",
       "    </tr>\n",
       "    <tr>\n",
       "      <th>4</th>\n",
       "      <td>0.505882</td>\n",
       "      <td>0.114058</td>\n",
       "      <td>Artificial</td>\n",
       "    </tr>\n",
       "    <tr>\n",
       "      <th>5</th>\n",
       "      <td>0.454545</td>\n",
       "      <td>0.079576</td>\n",
       "      <td>Artificial</td>\n",
       "    </tr>\n",
       "    <tr>\n",
       "      <th>6</th>\n",
       "      <td>0.515152</td>\n",
       "      <td>0.045093</td>\n",
       "      <td>Artificial</td>\n",
       "    </tr>\n",
       "    <tr>\n",
       "      <th>7</th>\n",
       "      <td>0.625000</td>\n",
       "      <td>0.039788</td>\n",
       "      <td>Artificial</td>\n",
       "    </tr>\n",
       "    <tr>\n",
       "      <th>8</th>\n",
       "      <td>0.684211</td>\n",
       "      <td>0.034483</td>\n",
       "      <td>Artificial</td>\n",
       "    </tr>\n",
       "    <tr>\n",
       "      <th>9</th>\n",
       "      <td>0.692308</td>\n",
       "      <td>0.023873</td>\n",
       "      <td>Artificial</td>\n",
       "    </tr>\n",
       "    <tr>\n",
       "      <th>10</th>\n",
       "      <td>0.000000</td>\n",
       "      <td>0.000000</td>\n",
       "      <td>Artificial</td>\n",
       "    </tr>\n",
       "    <tr>\n",
       "      <th>11</th>\n",
       "      <td>0.500000</td>\n",
       "      <td>1.000000</td>\n",
       "      <td>SemSeed</td>\n",
       "    </tr>\n",
       "    <tr>\n",
       "      <th>12</th>\n",
       "      <td>0.497908</td>\n",
       "      <td>0.946950</td>\n",
       "      <td>SemSeed</td>\n",
       "    </tr>\n",
       "    <tr>\n",
       "      <th>13</th>\n",
       "      <td>0.500000</td>\n",
       "      <td>0.875332</td>\n",
       "      <td>SemSeed</td>\n",
       "    </tr>\n",
       "    <tr>\n",
       "      <th>14</th>\n",
       "      <td>0.502496</td>\n",
       "      <td>0.801061</td>\n",
       "      <td>SemSeed</td>\n",
       "    </tr>\n",
       "    <tr>\n",
       "      <th>15</th>\n",
       "      <td>0.510516</td>\n",
       "      <td>0.708223</td>\n",
       "      <td>SemSeed</td>\n",
       "    </tr>\n",
       "    <tr>\n",
       "      <th>16</th>\n",
       "      <td>0.500000</td>\n",
       "      <td>0.530504</td>\n",
       "      <td>SemSeed</td>\n",
       "    </tr>\n",
       "    <tr>\n",
       "      <th>17</th>\n",
       "      <td>0.482072</td>\n",
       "      <td>0.320955</td>\n",
       "      <td>SemSeed</td>\n",
       "    </tr>\n",
       "    <tr>\n",
       "      <th>18</th>\n",
       "      <td>0.480000</td>\n",
       "      <td>0.222812</td>\n",
       "      <td>SemSeed</td>\n",
       "    </tr>\n",
       "    <tr>\n",
       "      <th>19</th>\n",
       "      <td>0.495726</td>\n",
       "      <td>0.153846</td>\n",
       "      <td>SemSeed</td>\n",
       "    </tr>\n",
       "    <tr>\n",
       "      <th>20</th>\n",
       "      <td>0.472727</td>\n",
       "      <td>0.068966</td>\n",
       "      <td>SemSeed</td>\n",
       "    </tr>\n",
       "    <tr>\n",
       "      <th>21</th>\n",
       "      <td>0.000000</td>\n",
       "      <td>0.000000</td>\n",
       "      <td>SemSeed</td>\n",
       "    </tr>\n",
       "  </tbody>\n",
       "</table>\n",
       "</div>"
      ],
      "text/plain": [
       "    Precision    Recall Bug-Seeding Approach\n",
       "0    0.500000  1.000000           Artificial\n",
       "1    0.501171  0.567639           Artificial\n",
       "2    0.478261  0.320955           Artificial\n",
       "3    0.459259  0.164456           Artificial\n",
       "4    0.505882  0.114058           Artificial\n",
       "5    0.454545  0.079576           Artificial\n",
       "6    0.515152  0.045093           Artificial\n",
       "7    0.625000  0.039788           Artificial\n",
       "8    0.684211  0.034483           Artificial\n",
       "9    0.692308  0.023873           Artificial\n",
       "10   0.000000  0.000000           Artificial\n",
       "11   0.500000  1.000000              SemSeed\n",
       "12   0.497908  0.946950              SemSeed\n",
       "13   0.500000  0.875332              SemSeed\n",
       "14   0.502496  0.801061              SemSeed\n",
       "15   0.510516  0.708223              SemSeed\n",
       "16   0.500000  0.530504              SemSeed\n",
       "17   0.482072  0.320955              SemSeed\n",
       "18   0.480000  0.222812              SemSeed\n",
       "19   0.495726  0.153846              SemSeed\n",
       "20   0.472727  0.068966              SemSeed\n",
       "21   0.000000  0.000000              SemSeed"
      ]
     },
     "execution_count": 8,
     "metadata": {},
     "output_type": "execute_result"
    }
   ],
   "source": [
    "artificial_wrong_binary_operand_p_r, artificial_bugs_wrong_opnd = get_data_for_aritficial_wrong_operand()\n",
    "semseed_wrong_binary_operand_pr_r, semseed_bugs_wrong_opnd = get_data_for_semseed_wrong_operand()\n",
    "\n",
    "artificial_wrong_binary_operand_p_r = pd.DataFrame(artificial_wrong_binary_operand_p_r)\n",
    "semseed_wrong_binary_operand_pr_r = pd.DataFrame(semseed_wrong_binary_operand_pr_r)\n",
    "wrong_operand_bugs_pr_recall = pd.concat((artificial_wrong_binary_operand_p_r, semseed_wrong_binary_operand_pr_r),\n",
    "                                         ignore_index=True)\n",
    "wrong_operand_bugs_pr_recall"
   ]
  },
  {
   "cell_type": "code",
   "execution_count": 19,
   "metadata": {
    "jupyter": {
     "outputs_hidden": false
    },
    "pycharm": {
     "name": "#%%\n"
    }
   },
   "outputs": [
    {
     "data": {
      "image/png": "[encoded data removed]",
      "text/plain": [
       "<Figure size 360x360 with 1 Axes>"
      ]
     },
     "metadata": {
      "needs_background": "light"
     },
     "output_type": "display_data"
    }
   ],
   "source": [
    "plot_precision_recall(wrong_operand_bugs_pr_recall, 'wrong_binopnd', 'Precision', 0)"
   ]
  },
  {
   "cell_type": "code",
   "execution_count": 11,
   "metadata": {
    "jupyter": {
     "outputs_hidden": false
    },
    "pycharm": {
     "name": "#%%\n"
    }
   },
   "outputs": [
    {
     "data": {
      "image/png": "[encoded data removed]",
      "text/plain": [
       "<Figure size 360x360 with 1 Axes>"
      ]
     },
     "metadata": {
      "needs_background": "light"
     },
     "output_type": "display_data"
    }
   ],
   "source": [
    "plot_precision_recall(wrong_operand_bugs_pr_recall, 'wrong_binopnd', 'Recall', 1)"
   ]
  },
  {
   "cell_type": "markdown",
   "metadata": {
    "pycharm": {
     "name": "#%% md\n"
    }
   },
   "source": [
    "## Wrong Assignment bugs\n",
    "\n",
    "#### SemSeed"
   ]
  },
  {
   "cell_type": "code",
   "execution_count": 12,
   "metadata": {
    "jupyter": {
     "outputs_hidden": false
    },
    "pycharm": {
     "name": "#%%\n"
    }
   },
   "outputs": [],
   "source": [
    "def get_data_semseed_wrong_assignment():\n",
    "    semseed_bugs_wrng_assgnmnts = read_json(semseed_deepbugs_predictions_fp_wrong_assignments)\n",
    "    filtered_prediction = []\n",
    "    for prediction in semseed_bugs_wrng_assgnmnts:\n",
    "        filtered_prediction.append(prediction)\n",
    "    semseed_bugs_wrng_assgnmnts = pd.DataFrame(filtered_prediction)\n",
    "    p, r = get_precision_recall_different_threshold(semseed_bugs_wrng_assgnmnts)\n",
    "    semseed_wrong_assignment_p_r = {\n",
    "        'Precision': p,\n",
    "        'Recall': r,\n",
    "        'Bug-Seeding Approach': ['SemSeed'] * len(p)\n",
    "    }\n",
    "    return semseed_wrong_assignment_p_r, semseed_bugs_wrng_assgnmnts"
   ]
  },
  {
   "cell_type": "markdown",
   "metadata": {
    "pycharm": {
     "name": "#%% md\n"
    }
   },
   "source": [
    "#### Aritificial"
   ]
  },
  {
   "cell_type": "code",
   "execution_count": 13,
   "metadata": {
    "jupyter": {
     "outputs_hidden": false
    },
    "pycharm": {
     "name": "#%%\n"
    }
   },
   "outputs": [],
   "source": [
    "def get_data_artificial_wrong_assignment():\n",
    "    artificial_bugs_wrng_assgnmnts = read_json(artificial_predictions_fp_wrong_assignments)\n",
    "    \n",
    "    filtered_prediction = []\n",
    "    for prediction in artificial_bugs_wrng_assgnmnts:\n",
    "        filtered_prediction.append(prediction)\n",
    "    \n",
    "    artificial_bugs_wrng_assgnmnts = pd.DataFrame(filtered_prediction)\n",
    "    p, r = get_precision_recall_different_threshold(artificial_bugs_wrng_assgnmnts)\n",
    "    artificial_wrong_assignment_p_r = {\n",
    "        'Precision': p,\n",
    "        'Recall': r,\n",
    "        'Bug-Seeding Approach': ['Artificial'] * len(p)\n",
    "    }\n",
    "    return artificial_wrong_assignment_p_r, artificial_bugs_wrng_assgnmnts\n"
   ]
  },
  {
   "cell_type": "code",
   "execution_count": 14,
   "metadata": {
    "jupyter": {
     "outputs_hidden": false
    },
    "pycharm": {
     "name": "#%%\n"
    }
   },
   "outputs": [
    {
     "data": {
      "text/html": [
       "<div>\n",
       "<style scoped>\n",
       "    .dataframe tbody tr th:only-of-type {\n",
       "        vertical-align: middle;\n",
       "    }\n",
       "\n",
       "    .dataframe tbody tr th {\n",
       "        vertical-align: top;\n",
       "    }\n",
       "\n",
       "    .dataframe thead th {\n",
       "        text-align: right;\n",
       "    }\n",
       "</style>\n",
       "<table border=\"1\" class=\"dataframe\">\n",
       "  <thead>\n",
       "    <tr style=\"text-align: right;\">\n",
       "      <th></th>\n",
       "      <th>Precision</th>\n",
       "      <th>Recall</th>\n",
       "      <th>Bug-Seeding Approach</th>\n",
       "    </tr>\n",
       "  </thead>\n",
       "  <tbody>\n",
       "    <tr>\n",
       "      <th>0</th>\n",
       "      <td>0.500000</td>\n",
       "      <td>1.000000</td>\n",
       "      <td>Artificial</td>\n",
       "    </tr>\n",
       "    <tr>\n",
       "      <th>1</th>\n",
       "      <td>0.523077</td>\n",
       "      <td>0.894737</td>\n",
       "      <td>Artificial</td>\n",
       "    </tr>\n",
       "    <tr>\n",
       "      <th>2</th>\n",
       "      <td>0.509091</td>\n",
       "      <td>0.736842</td>\n",
       "      <td>Artificial</td>\n",
       "    </tr>\n",
       "    <tr>\n",
       "      <th>3</th>\n",
       "      <td>0.512195</td>\n",
       "      <td>0.552632</td>\n",
       "      <td>Artificial</td>\n",
       "    </tr>\n",
       "    <tr>\n",
       "      <th>4</th>\n",
       "      <td>0.560000</td>\n",
       "      <td>0.368421</td>\n",
       "      <td>Artificial</td>\n",
       "    </tr>\n",
       "    <tr>\n",
       "      <th>5</th>\n",
       "      <td>0.533333</td>\n",
       "      <td>0.210526</td>\n",
       "      <td>Artificial</td>\n",
       "    </tr>\n",
       "    <tr>\n",
       "      <th>6</th>\n",
       "      <td>0.333333</td>\n",
       "      <td>0.052632</td>\n",
       "      <td>Artificial</td>\n",
       "    </tr>\n",
       "    <tr>\n",
       "      <th>7</th>\n",
       "      <td>0.500000</td>\n",
       "      <td>0.052632</td>\n",
       "      <td>Artificial</td>\n",
       "    </tr>\n",
       "    <tr>\n",
       "      <th>8</th>\n",
       "      <td>0.000000</td>\n",
       "      <td>0.000000</td>\n",
       "      <td>Artificial</td>\n",
       "    </tr>\n",
       "    <tr>\n",
       "      <th>9</th>\n",
       "      <td>0.000000</td>\n",
       "      <td>0.000000</td>\n",
       "      <td>Artificial</td>\n",
       "    </tr>\n",
       "    <tr>\n",
       "      <th>10</th>\n",
       "      <td>0.000000</td>\n",
       "      <td>0.000000</td>\n",
       "      <td>Artificial</td>\n",
       "    </tr>\n",
       "    <tr>\n",
       "      <th>11</th>\n",
       "      <td>0.500000</td>\n",
       "      <td>1.000000</td>\n",
       "      <td>SemSeed</td>\n",
       "    </tr>\n",
       "    <tr>\n",
       "      <th>12</th>\n",
       "      <td>0.484375</td>\n",
       "      <td>0.815789</td>\n",
       "      <td>SemSeed</td>\n",
       "    </tr>\n",
       "    <tr>\n",
       "      <th>13</th>\n",
       "      <td>0.508475</td>\n",
       "      <td>0.789474</td>\n",
       "      <td>SemSeed</td>\n",
       "    </tr>\n",
       "    <tr>\n",
       "      <th>14</th>\n",
       "      <td>0.508772</td>\n",
       "      <td>0.763158</td>\n",
       "      <td>SemSeed</td>\n",
       "    </tr>\n",
       "    <tr>\n",
       "      <th>15</th>\n",
       "      <td>0.519231</td>\n",
       "      <td>0.710526</td>\n",
       "      <td>SemSeed</td>\n",
       "    </tr>\n",
       "    <tr>\n",
       "      <th>16</th>\n",
       "      <td>0.541667</td>\n",
       "      <td>0.684211</td>\n",
       "      <td>SemSeed</td>\n",
       "    </tr>\n",
       "    <tr>\n",
       "      <th>17</th>\n",
       "      <td>0.550000</td>\n",
       "      <td>0.578947</td>\n",
       "      <td>SemSeed</td>\n",
       "    </tr>\n",
       "    <tr>\n",
       "      <th>18</th>\n",
       "      <td>0.540541</td>\n",
       "      <td>0.526316</td>\n",
       "      <td>SemSeed</td>\n",
       "    </tr>\n",
       "    <tr>\n",
       "      <th>19</th>\n",
       "      <td>0.533333</td>\n",
       "      <td>0.421053</td>\n",
       "      <td>SemSeed</td>\n",
       "    </tr>\n",
       "    <tr>\n",
       "      <th>20</th>\n",
       "      <td>0.478261</td>\n",
       "      <td>0.289474</td>\n",
       "      <td>SemSeed</td>\n",
       "    </tr>\n",
       "    <tr>\n",
       "      <th>21</th>\n",
       "      <td>0.000000</td>\n",
       "      <td>0.000000</td>\n",
       "      <td>SemSeed</td>\n",
       "    </tr>\n",
       "  </tbody>\n",
       "</table>\n",
       "</div>"
      ],
      "text/plain": [
       "    Precision    Recall Bug-Seeding Approach\n",
       "0    0.500000  1.000000           Artificial\n",
       "1    0.523077  0.894737           Artificial\n",
       "2    0.509091  0.736842           Artificial\n",
       "3    0.512195  0.552632           Artificial\n",
       "4    0.560000  0.368421           Artificial\n",
       "5    0.533333  0.210526           Artificial\n",
       "6    0.333333  0.052632           Artificial\n",
       "7    0.500000  0.052632           Artificial\n",
       "8    0.000000  0.000000           Artificial\n",
       "9    0.000000  0.000000           Artificial\n",
       "10   0.000000  0.000000           Artificial\n",
       "11   0.500000  1.000000              SemSeed\n",
       "12   0.484375  0.815789              SemSeed\n",
       "13   0.508475  0.789474              SemSeed\n",
       "14   0.508772  0.763158              SemSeed\n",
       "15   0.519231  0.710526              SemSeed\n",
       "16   0.541667  0.684211              SemSeed\n",
       "17   0.550000  0.578947              SemSeed\n",
       "18   0.540541  0.526316              SemSeed\n",
       "19   0.533333  0.421053              SemSeed\n",
       "20   0.478261  0.289474              SemSeed\n",
       "21   0.000000  0.000000              SemSeed"
      ]
     },
     "execution_count": 14,
     "metadata": {},
     "output_type": "execute_result"
    }
   ],
   "source": [
    "artificial_wrong_assignments_p_r, art_wrong_assignments = get_data_artificial_wrong_assignment()\n",
    "semseed_wrong_assignments_p_r, semseed_wrong_assignments = get_data_semseed_wrong_assignment()\n",
    "\n",
    "artificial_wrong_assignments_p_r = pd.DataFrame(artificial_wrong_assignments_p_r)\n",
    "semseed_wrong_assignments_p_r = pd.DataFrame(semseed_wrong_assignments_p_r)\n",
    "wrong_assignment_bugs = pd.concat((artificial_wrong_assignments_p_r, semseed_wrong_assignments_p_r), ignore_index=True)\n",
    "wrong_assignment_bugs"
   ]
  },
  {
   "cell_type": "code",
   "execution_count": 36,
   "metadata": {
    "jupyter": {
     "outputs_hidden": false
    },
    "pycharm": {
     "name": "#%%\n"
    }
   },
   "outputs": [
    {
     "data": {
      "image/png": "[encoded data removed]",
      "text/plain": [
       "<Figure size 360x360 with 1 Axes>"
      ]
     },
     "metadata": {
      "needs_background": "light"
     },
     "output_type": "display_data"
    }
   ],
   "source": [
    "plot_precision_recall(wrong_assignment_bugs, 'wrong_assignment', 'Precision', 2)"
   ]
  },
  {
   "cell_type": "code",
   "execution_count": 37,
   "metadata": {
    "jupyter": {
     "outputs_hidden": false
    },
    "pycharm": {
     "name": "#%%\n"
    }
   },
   "outputs": [
    {
     "data": {
      "image/png": "[encoded data removed]",
      "text/plain": [
       "<Figure size 360x360 with 1 Axes>"
      ]
     },
     "metadata": {
      "needs_background": "light"
     },
     "output_type": "display_data"
    }
   ],
   "source": [
    "plot_precision_recall(wrong_assignment_bugs, 'wrong_assignment', 'Recall', 3)"
   ]
  }
 ],
 "metadata": {
  "kernelspec": {
   "display_name": "Python 3",
   "language": "python",
   "name": "python3"
  },
  "language_info": {
   "codemirror_mode": {
    "name": "ipython",
    "version": 3
   },
   "file_extension": ".py",
   "mimetype": "text/x-python",
   "name": "python",
   "nbconvert_exporter": "python",
   "pygments_lexer": "ipython3",
   "version": "3.8.5"
  }
 },
 "nbformat": 4,
 "nbformat_minor": 4
}
