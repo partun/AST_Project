{
 "cells": [
  {
   "cell_type": "markdown",
   "metadata": {},
   "source": [
    "# Evaluation"
   ]
  },
  {
   "cell_type": "markdown",
   "metadata": {},
   "source": [
    "### Setup"
   ]
  },
  {
   "cell_type": "code",
   "execution_count": 49,
   "metadata": {},
   "outputs": [],
   "source": [
    "def get_bug_reached_info(file_name):\n",
    "    #print(\"file name: \" + file_name)\n",
    "    f = open(file_name, \"r\")\n",
    "    bugs_reached_info = {}\n",
    "    bugs_str_list = f.read().split(\",\")\n",
    "    for bug in bugs_str_list:\n",
    "        if len(bug)<3:\n",
    "            continue\n",
    "        #print(int(bug[:-2]))\n",
    "        #print(int(bug[-1]))\n",
    "        bugs_reached_info[int(bug[:-2])] = int(bug[-1])\n",
    "    return bugs_reached_info\n",
    "\n",
    "def count_bugs_reached(file_name):\n",
    "    return len([value for value in get_bug_reached_info(file_name).values() if value])\n",
    "\n",
    "def percentage_bugs_reached(file_name):\n",
    "    bugs_bool_list = get_bug_reached_info(file_name).values()\n",
    "    return (len([value for value in bugs_bool_list if value]) / len(bugs_bool_list)) * 100\n",
    "\n",
    "def is_reached(file_name, id):\n",
    "    return get_bug_reached_info(file_name)[id]"
   ]
  },
  {
   "cell_type": "markdown",
   "metadata": {},
   "source": [
    "### File names"
   ]
  },
  {
   "cell_type": "code",
   "execution_count": 34,
   "metadata": {},
   "outputs": [],
   "source": [
    "file_names = \"honggfuzz_bugs_reached.txt\", \"aflplusplus_bugs_reached.txt\", \"afl_bugs_reached.txt\""
   ]
  },
  {
   "cell_type": "markdown",
   "metadata": {},
   "source": [
    "### Visualization"
   ]
  },
  {
   "cell_type": "code",
   "execution_count": 72,
   "metadata": {},
   "outputs": [
    {
     "data": {
      "image/png": "[encoded data removed]",
      "text/plain": [
       "<Figure size 432x288 with 1 Axes>"
      ]
     },
     "metadata": {
      "needs_background": "light"
     },
     "output_type": "display_data"
    }
   ],
   "source": [
    "import numpy as np\n",
    "import matplotlib\n",
    "import matplotlib.pyplot as plt\n",
    "\n",
    "list_2D = []\n",
    "\n",
    "for file_name in file_names:\n",
    "    #print(list_2D)\n",
    "    list_2D.append([value for value in get_bug_reached_info(file_name).values()])\n",
    "#print(np.array(list_2D))\n",
    "\n",
    "bugs = np.array(list_2D)\n",
    "\n",
    "fig, ax = plt.subplots()\n",
    "\n",
    "#ax.set_title(\"Bugs reached by each fuzzer\")\n",
    "fig.tight_layout()\n",
    "plt.yticks(list([x+.5 for x in range(len(file_names))]), \n",
    "           [f\"{file_name} ({str(count_bugs_reached(file_name))}/{len(bugs[0])})\" for file_name in file_names],\n",
    "          fontsize=8)\n",
    "# remove x ticks\n",
    "plt.tick_params(axis='x', which='both', bottom=False, top=False, labelbottom=False)\n",
    "\n",
    "plt.pcolormesh(bugs, cmap=plt.get_cmap(\"Greens\"), edgecolors='k', linewidth=1)\n",
    "ax = plt.gca()\n",
    "ax.set_aspect('equal')\n",
    "\n",
    "plt.tight_layout()\n",
    "plt.savefig(\"evaluation.svg\", bbox_inches='tight')\n",
    "plt.show()"
   ]
  },
  {
   "cell_type": "markdown",
   "metadata": {},
   "source": [
    "### Percentage of Bugs reached"
   ]
  },
  {
   "cell_type": "code",
   "execution_count": 70,
   "metadata": {},
   "outputs": [
    {
     "name": "stdout",
     "output_type": "stream",
     "text": [
      "honggfuzz_bugs_reached.txt: 42.857142857142854%\n",
      "aflplusplus_bugs_reached.txt: 57.14285714285714%\n",
      "afl_bugs_reached.txt: 8.571428571428571%\n"
     ]
    }
   ],
   "source": [
    "for file_name in file_names:\n",
    "    print(f\"{file_name}: {percentage_bugs_reached(file_name)}%\")"
   ]
  },
  {
   "cell_type": "markdown",
   "metadata": {},
   "source": [
    "### Information on specific bug"
   ]
  },
  {
   "cell_type": "code",
   "execution_count": 66,
   "metadata": {},
   "outputs": [
    {
     "name": "stdout",
     "output_type": "stream",
     "text": [
      "bug with the ID 85287269 found by:\n",
      "honggfuzz_bugs_reached.txt\n",
      "aflplusplus_bugs_reached.txt\n",
      "afl_bugs_reached.txt\n"
     ]
    }
   ],
   "source": [
    "bug_number = 9\n",
    "list_of_bug_ids = [key for key in get_bug_reached_info(file_names[0]).keys()]\n",
    "print(f\"bug with the ID {list_of_bug_ids[bug_number]} found by:\")\n",
    "for file_name in file_names:\n",
    "    if is_reached(file_name, list_of_bug_ids[bug_number]):\n",
    "        print(file_name)"
   ]
  }
 ],
 "metadata": {
  "kernelspec": {
   "display_name": "Python 3 (ipykernel)",
   "language": "python",
   "name": "python3"
  },
  "language_info": {
   "codemirror_mode": {
    "name": "ipython",
    "version": 3
   },
   "file_extension": ".py",
   "mimetype": "text/x-python",
   "name": "python",
   "nbconvert_exporter": "python",
   "pygments_lexer": "ipython3",
   "version": "3.9.7"
  }
 },
 "nbformat": 4,
 "nbformat_minor": 4
}
